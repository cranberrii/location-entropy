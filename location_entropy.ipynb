{
 "cells": [
  {
   "cell_type": "code",
   "execution_count": 1,
   "metadata": {},
   "outputs": [],
   "source": [
    "import pandas as pd\n",
    "import numpy as np\n",
    "import ast\n",
    "\n",
    "import geopandas as gpd\n",
    "from shapely.geometry import Point, Polygon\n",
    "import matplotlib.pyplot as plt\n",
    "import seaborn as sns"
   ]
  },
  {
   "cell_type": "code",
   "execution_count": 2,
   "metadata": {},
   "outputs": [],
   "source": [
    "df = pd.read_csv('data/500_Cities__Census_Tract-level_Data__GIS_Friendly_Format___2017_release_.csv')"
   ]
  },
  {
   "cell_type": "code",
   "execution_count": 3,
   "metadata": {},
   "outputs": [
    {
     "data": {
      "text/html": [
       "<div>\n",
       "<style scoped>\n",
       "    .dataframe tbody tr th:only-of-type {\n",
       "        vertical-align: middle;\n",
       "    }\n",
       "\n",
       "    .dataframe tbody tr th {\n",
       "        vertical-align: top;\n",
       "    }\n",
       "\n",
       "    .dataframe thead th {\n",
       "        text-align: right;\n",
       "    }\n",
       "</style>\n",
       "<table border=\"1\" class=\"dataframe\">\n",
       "  <thead>\n",
       "    <tr style=\"text-align: right;\">\n",
       "      <th></th>\n",
       "      <th>StateAbbr</th>\n",
       "      <th>PlaceName</th>\n",
       "      <th>PlaceFIPS</th>\n",
       "      <th>TractFIPS</th>\n",
       "      <th>Place_TractID</th>\n",
       "      <th>Population2010</th>\n",
       "      <th>ACCESS2_CrudePrev</th>\n",
       "      <th>ACCESS2_Crude95CI</th>\n",
       "      <th>ARTHRITIS_CrudePrev</th>\n",
       "      <th>ARTHRITIS_Crude95CI</th>\n",
       "      <th>...</th>\n",
       "      <th>PAPTEST_Crude95CI</th>\n",
       "      <th>PHLTH_CrudePrev</th>\n",
       "      <th>PHLTH_Crude95CI</th>\n",
       "      <th>SLEEP_CrudePrev</th>\n",
       "      <th>SLEEP_Crude95CI</th>\n",
       "      <th>STROKE_CrudePrev</th>\n",
       "      <th>STROKE_Crude95CI</th>\n",
       "      <th>TEETHLOST_CrudePrev</th>\n",
       "      <th>TEETHLOST_Crude95CI</th>\n",
       "      <th>Geolocation</th>\n",
       "    </tr>\n",
       "  </thead>\n",
       "  <tbody>\n",
       "    <tr>\n",
       "      <th>0</th>\n",
       "      <td>AL</td>\n",
       "      <td>Birmingham</td>\n",
       "      <td>107000</td>\n",
       "      <td>1073000100</td>\n",
       "      <td>0107000-01073000100</td>\n",
       "      <td>3042</td>\n",
       "      <td>23.9</td>\n",
       "      <td>(21.2, 27.2)</td>\n",
       "      <td>32.5</td>\n",
       "      <td>(31.5, 33.6)</td>\n",
       "      <td>...</td>\n",
       "      <td>(73.1, 78.6)</td>\n",
       "      <td>19.6</td>\n",
       "      <td>(18.2, 21.2)</td>\n",
       "      <td>50.4</td>\n",
       "      <td>(49.1, 51.6)</td>\n",
       "      <td>5.5</td>\n",
       "      <td>( 5.0,  6.0)</td>\n",
       "      <td>30.2</td>\n",
       "      <td>(24.1, 36.3)</td>\n",
       "      <td>(33.57943283260, -86.7228323926)</td>\n",
       "    </tr>\n",
       "    <tr>\n",
       "      <th>1</th>\n",
       "      <td>AL</td>\n",
       "      <td>Birmingham</td>\n",
       "      <td>107000</td>\n",
       "      <td>1073000300</td>\n",
       "      <td>0107000-01073000300</td>\n",
       "      <td>2735</td>\n",
       "      <td>28.8</td>\n",
       "      <td>(25.4, 32.4)</td>\n",
       "      <td>31.3</td>\n",
       "      <td>(30.0, 32.4)</td>\n",
       "      <td>...</td>\n",
       "      <td>(70.0, 76.4)</td>\n",
       "      <td>20.2</td>\n",
       "      <td>(18.5, 22.0)</td>\n",
       "      <td>49.4</td>\n",
       "      <td>(47.8, 50.8)</td>\n",
       "      <td>5.7</td>\n",
       "      <td>( 5.1,  6.4)</td>\n",
       "      <td>33.3</td>\n",
       "      <td>(25.6, 41.0)</td>\n",
       "      <td>(33.54282086860, -86.7524339780)</td>\n",
       "    </tr>\n",
       "    <tr>\n",
       "      <th>2</th>\n",
       "      <td>AL</td>\n",
       "      <td>Birmingham</td>\n",
       "      <td>107000</td>\n",
       "      <td>1073000400</td>\n",
       "      <td>0107000-01073000400</td>\n",
       "      <td>3338</td>\n",
       "      <td>26.1</td>\n",
       "      <td>(22.6, 29.9)</td>\n",
       "      <td>34.6</td>\n",
       "      <td>(33.2, 35.9)</td>\n",
       "      <td>...</td>\n",
       "      <td>(69.4, 76.2)</td>\n",
       "      <td>21.1</td>\n",
       "      <td>(19.1, 23.1)</td>\n",
       "      <td>52.5</td>\n",
       "      <td>(51.2, 53.7)</td>\n",
       "      <td>6.5</td>\n",
       "      <td>( 5.8,  7.2)</td>\n",
       "      <td>36.0</td>\n",
       "      <td>(28.9, 43.5)</td>\n",
       "      <td>(33.56324496330, -86.7640474064)</td>\n",
       "    </tr>\n",
       "    <tr>\n",
       "      <th>3</th>\n",
       "      <td>AL</td>\n",
       "      <td>Birmingham</td>\n",
       "      <td>107000</td>\n",
       "      <td>1073000500</td>\n",
       "      <td>0107000-01073000500</td>\n",
       "      <td>2864</td>\n",
       "      <td>28.1</td>\n",
       "      <td>(24.6, 32.0)</td>\n",
       "      <td>37.8</td>\n",
       "      <td>(36.3, 39.2)</td>\n",
       "      <td>...</td>\n",
       "      <td>(67.0, 74.5)</td>\n",
       "      <td>23.1</td>\n",
       "      <td>(21.0, 25.4)</td>\n",
       "      <td>52.6</td>\n",
       "      <td>(51.1, 54.0)</td>\n",
       "      <td>8.2</td>\n",
       "      <td>( 7.3,  9.2)</td>\n",
       "      <td>40.2</td>\n",
       "      <td>(31.1, 48.9)</td>\n",
       "      <td>(33.54424045940, -86.7749130719)</td>\n",
       "    </tr>\n",
       "    <tr>\n",
       "      <th>4</th>\n",
       "      <td>AL</td>\n",
       "      <td>Birmingham</td>\n",
       "      <td>107000</td>\n",
       "      <td>1073000700</td>\n",
       "      <td>0107000-01073000700</td>\n",
       "      <td>2577</td>\n",
       "      <td>31.8</td>\n",
       "      <td>(27.0, 36.7)</td>\n",
       "      <td>38.5</td>\n",
       "      <td>(37.1, 39.9)</td>\n",
       "      <td>...</td>\n",
       "      <td>(62.9, 71.9)</td>\n",
       "      <td>25.8</td>\n",
       "      <td>(23.5, 28.2)</td>\n",
       "      <td>54.1</td>\n",
       "      <td>(52.3, 55.6)</td>\n",
       "      <td>9.6</td>\n",
       "      <td>( 8.5, 10.7)</td>\n",
       "      <td>45.8</td>\n",
       "      <td>(35.2, 56.1)</td>\n",
       "      <td>(33.55254061390, -86.8016893706)</td>\n",
       "    </tr>\n",
       "  </tbody>\n",
       "</table>\n",
       "<p>5 rows × 63 columns</p>\n",
       "</div>"
      ],
      "text/plain": [
       "  StateAbbr   PlaceName  PlaceFIPS   TractFIPS        Place_TractID  \\\n",
       "0        AL  Birmingham     107000  1073000100  0107000-01073000100   \n",
       "1        AL  Birmingham     107000  1073000300  0107000-01073000300   \n",
       "2        AL  Birmingham     107000  1073000400  0107000-01073000400   \n",
       "3        AL  Birmingham     107000  1073000500  0107000-01073000500   \n",
       "4        AL  Birmingham     107000  1073000700  0107000-01073000700   \n",
       "\n",
       "   Population2010  ACCESS2_CrudePrev ACCESS2_Crude95CI  ARTHRITIS_CrudePrev  \\\n",
       "0            3042               23.9      (21.2, 27.2)                 32.5   \n",
       "1            2735               28.8      (25.4, 32.4)                 31.3   \n",
       "2            3338               26.1      (22.6, 29.9)                 34.6   \n",
       "3            2864               28.1      (24.6, 32.0)                 37.8   \n",
       "4            2577               31.8      (27.0, 36.7)                 38.5   \n",
       "\n",
       "  ARTHRITIS_Crude95CI                ...                 PAPTEST_Crude95CI  \\\n",
       "0        (31.5, 33.6)                ...                      (73.1, 78.6)   \n",
       "1        (30.0, 32.4)                ...                      (70.0, 76.4)   \n",
       "2        (33.2, 35.9)                ...                      (69.4, 76.2)   \n",
       "3        (36.3, 39.2)                ...                      (67.0, 74.5)   \n",
       "4        (37.1, 39.9)                ...                      (62.9, 71.9)   \n",
       "\n",
       "  PHLTH_CrudePrev  PHLTH_Crude95CI SLEEP_CrudePrev  SLEEP_Crude95CI  \\\n",
       "0            19.6     (18.2, 21.2)            50.4     (49.1, 51.6)   \n",
       "1            20.2     (18.5, 22.0)            49.4     (47.8, 50.8)   \n",
       "2            21.1     (19.1, 23.1)            52.5     (51.2, 53.7)   \n",
       "3            23.1     (21.0, 25.4)            52.6     (51.1, 54.0)   \n",
       "4            25.8     (23.5, 28.2)            54.1     (52.3, 55.6)   \n",
       "\n",
       "  STROKE_CrudePrev  STROKE_Crude95CI TEETHLOST_CrudePrev  TEETHLOST_Crude95CI  \\\n",
       "0              5.5      ( 5.0,  6.0)                30.2         (24.1, 36.3)   \n",
       "1              5.7      ( 5.1,  6.4)                33.3         (25.6, 41.0)   \n",
       "2              6.5      ( 5.8,  7.2)                36.0         (28.9, 43.5)   \n",
       "3              8.2      ( 7.3,  9.2)                40.2         (31.1, 48.9)   \n",
       "4              9.6      ( 8.5, 10.7)                45.8         (35.2, 56.1)   \n",
       "\n",
       "                        Geolocation  \n",
       "0  (33.57943283260, -86.7228323926)  \n",
       "1  (33.54282086860, -86.7524339780)  \n",
       "2  (33.56324496330, -86.7640474064)  \n",
       "3  (33.54424045940, -86.7749130719)  \n",
       "4  (33.55254061390, -86.8016893706)  \n",
       "\n",
       "[5 rows x 63 columns]"
      ]
     },
     "execution_count": 3,
     "metadata": {},
     "output_type": "execute_result"
    }
   ],
   "source": [
    "df.head()"
   ]
  },
  {
   "cell_type": "code",
   "execution_count": 4,
   "metadata": {},
   "outputs": [
    {
     "data": {
      "text/plain": [
       "StateAbbr\n",
       "AK      1\n",
       "AL      6\n",
       "AR      5\n",
       "AZ     12\n",
       "CA    121\n",
       "CO     14\n",
       "CT      8\n",
       "DC      1\n",
       "DE      1\n",
       "FL     33\n",
       "GA     11\n",
       "HI      1\n",
       "IA      6\n",
       "ID      3\n",
       "IL     18\n",
       "IN     11\n",
       "KS      6\n",
       "KY      2\n",
       "LA      6\n",
       "MA     13\n",
       "MD      1\n",
       "ME      1\n",
       "MI     16\n",
       "MN      7\n",
       "MO      8\n",
       "MS      2\n",
       "MT      2\n",
       "NC     14\n",
       "ND      1\n",
       "NE      2\n",
       "NH      2\n",
       "NJ      9\n",
       "NM      4\n",
       "NV      5\n",
       "NY      9\n",
       "OH      9\n",
       "OK      6\n",
       "OR      8\n",
       "PA      7\n",
       "RI      4\n",
       "SC      5\n",
       "SD      2\n",
       "TN      6\n",
       "TX     47\n",
       "UT      9\n",
       "VA     11\n",
       "VT      1\n",
       "WA     14\n",
       "WI      7\n",
       "WV      1\n",
       "WY      1\n",
       "Name: PlaceName, dtype: int64"
      ]
     },
     "execution_count": 4,
     "metadata": {},
     "output_type": "execute_result"
    }
   ],
   "source": [
    "# CA, TX & FL has the most number of cities\n",
    "\n",
    "df.groupby(['StateAbbr']).PlaceName.nunique()"
   ]
  },
  {
   "cell_type": "code",
   "execution_count": 7,
   "metadata": {},
   "outputs": [
    {
     "name": "stderr",
     "output_type": "stream",
     "text": [
      "/home/jermyn/anaconda3/envs/tf/lib/python3.6/site-packages/ipykernel_launcher.py:4: SettingWithCopyWarning: \n",
      "A value is trying to be set on a copy of a slice from a DataFrame.\n",
      "Try using .loc[row_indexer,col_indexer] = value instead\n",
      "\n",
      "See the caveats in the documentation: http://pandas.pydata.org/pandas-docs/stable/indexing.html#indexing-view-versus-copy\n",
      "  after removing the cwd from sys.path.\n",
      "/home/jermyn/anaconda3/envs/tf/lib/python3.6/site-packages/ipykernel_launcher.py:5: SettingWithCopyWarning: \n",
      "A value is trying to be set on a copy of a slice from a DataFrame.\n",
      "Try using .loc[row_indexer,col_indexer] = value instead\n",
      "\n",
      "See the caveats in the documentation: http://pandas.pydata.org/pandas-docs/stable/indexing.html#indexing-view-versus-copy\n",
      "  \"\"\"\n"
     ]
    }
   ],
   "source": [
    "# filter only one state and select population, diabetes prevalance & geolocation cols\n",
    "\n",
    "df1 = df[df['StateAbbr'] == \"CA\"]\n",
    "df1['Geolocation'] = df1['Geolocation'].apply(lambda g: ast.literal_eval(g))\n",
    "df1['Geolocation2'] = df1['Geolocation'].apply(Point)\n",
    "\n",
    "# select only population and diabetes prevalence columns\n",
    "df1 = df1[['StateAbbr', 'PlaceName', 'Population2010', 'DIABETES_CrudePrev','DIABETES_Crude95CI','Geolocation','Geolocation2']]"
   ]
  },
  {
   "cell_type": "code",
   "execution_count": 8,
   "metadata": {},
   "outputs": [
    {
     "data": {
      "text/plain": [
       "<matplotlib.axes._subplots.AxesSubplot at 0x7f31ad7e27b8>"
      ]
     },
     "execution_count": 8,
     "metadata": {},
     "output_type": "execute_result"
    },
    {
     "data": {
      "image/png": "[encoded data removed]",
      "text/plain": [
       "<Figure size 432x288 with 1 Axes>"
      ]
     },
     "metadata": {},
     "output_type": "display_data"
    }
   ],
   "source": [
    "sns.distplot(df1['Population2010'], bins=30)"
   ]
  },
  {
   "cell_type": "code",
   "execution_count": 9,
   "metadata": {},
   "outputs": [],
   "source": [
    "g_df = gpd.GeoDataFrame(df1, geometry='Geolocation2')"
   ]
  },
  {
   "cell_type": "code",
   "execution_count": 10,
   "metadata": {},
   "outputs": [
    {
     "data": {
      "text/html": [
       "<div>\n",
       "<style scoped>\n",
       "    .dataframe tbody tr th:only-of-type {\n",
       "        vertical-align: middle;\n",
       "    }\n",
       "\n",
       "    .dataframe tbody tr th {\n",
       "        vertical-align: top;\n",
       "    }\n",
       "\n",
       "    .dataframe thead th {\n",
       "        text-align: right;\n",
       "    }\n",
       "</style>\n",
       "<table border=\"1\" class=\"dataframe\">\n",
       "  <thead>\n",
       "    <tr style=\"text-align: right;\">\n",
       "      <th></th>\n",
       "      <th>StateAbbr</th>\n",
       "      <th>PlaceName</th>\n",
       "      <th>Population2010</th>\n",
       "      <th>DIABETES_CrudePrev</th>\n",
       "      <th>DIABETES_Crude95CI</th>\n",
       "      <th>Geolocation</th>\n",
       "      <th>Geolocation2</th>\n",
       "    </tr>\n",
       "  </thead>\n",
       "  <tbody>\n",
       "    <tr>\n",
       "      <th>230</th>\n",
       "      <td>CA</td>\n",
       "      <td>Santa Maria</td>\n",
       "      <td>147</td>\n",
       "      <td>1.7</td>\n",
       "      <td>( 1.4,  2.2)</td>\n",
       "      <td>(34.8815493718, -120.449958863)</td>\n",
       "      <td>POINT (34.8815493718 -120.449958863)</td>\n",
       "    </tr>\n",
       "    <tr>\n",
       "      <th>1513</th>\n",
       "      <td>CA</td>\n",
       "      <td>Alameda</td>\n",
       "      <td>3646</td>\n",
       "      <td>7.8</td>\n",
       "      <td>( 7.2,  8.5)</td>\n",
       "      <td>(37.7645625166, -122.231170131)</td>\n",
       "      <td>POINT (37.7645625166 -122.231170131)</td>\n",
       "    </tr>\n",
       "    <tr>\n",
       "      <th>1514</th>\n",
       "      <td>CA</td>\n",
       "      <td>Alameda</td>\n",
       "      <td>4107</td>\n",
       "      <td>8.7</td>\n",
       "      <td>( 8.2,  9.2)</td>\n",
       "      <td>(37.775929832, -122.247776936)</td>\n",
       "      <td>POINT (37.775929832 -122.247776936)</td>\n",
       "    </tr>\n",
       "    <tr>\n",
       "      <th>1515</th>\n",
       "      <td>CA</td>\n",
       "      <td>Alameda</td>\n",
       "      <td>4896</td>\n",
       "      <td>10.2</td>\n",
       "      <td>( 9.6, 10.9)</td>\n",
       "      <td>(37.7811916268, -122.266079332)</td>\n",
       "      <td>POINT (37.7811916268 -122.266079332)</td>\n",
       "    </tr>\n",
       "    <tr>\n",
       "      <th>1516</th>\n",
       "      <td>CA</td>\n",
       "      <td>Alameda</td>\n",
       "      <td>4722</td>\n",
       "      <td>10.5</td>\n",
       "      <td>( 9.9, 11.1)</td>\n",
       "      <td>(37.7778322183, -122.283597907)</td>\n",
       "      <td>POINT (37.7778322183 -122.283597907)</td>\n",
       "    </tr>\n",
       "  </tbody>\n",
       "</table>\n",
       "</div>"
      ],
      "text/plain": [
       "     StateAbbr    PlaceName  Population2010  DIABETES_CrudePrev  \\\n",
       "230         CA  Santa Maria             147                 1.7   \n",
       "1513        CA      Alameda            3646                 7.8   \n",
       "1514        CA      Alameda            4107                 8.7   \n",
       "1515        CA      Alameda            4896                10.2   \n",
       "1516        CA      Alameda            4722                10.5   \n",
       "\n",
       "     DIABETES_Crude95CI                      Geolocation  \\\n",
       "230        ( 1.4,  2.2)  (34.8815493718, -120.449958863)   \n",
       "1513       ( 7.2,  8.5)  (37.7645625166, -122.231170131)   \n",
       "1514       ( 8.2,  9.2)   (37.775929832, -122.247776936)   \n",
       "1515       ( 9.6, 10.9)  (37.7811916268, -122.266079332)   \n",
       "1516       ( 9.9, 11.1)  (37.7778322183, -122.283597907)   \n",
       "\n",
       "                              Geolocation2  \n",
       "230   POINT (34.8815493718 -120.449958863)  \n",
       "1513  POINT (37.7645625166 -122.231170131)  \n",
       "1514   POINT (37.775929832 -122.247776936)  \n",
       "1515  POINT (37.7811916268 -122.266079332)  \n",
       "1516  POINT (37.7778322183 -122.283597907)  "
      ]
     },
     "execution_count": 10,
     "metadata": {},
     "output_type": "execute_result"
    }
   ],
   "source": [
    "g_df.head()"
   ]
  },
  {
   "cell_type": "code",
   "execution_count": 11,
   "metadata": {},
   "outputs": [
    {
     "data": {
      "image/png": "[encoded data removed]",
      "text/plain": [
       "<Figure size 432x288 with 1 Axes>"
      ]
     },
     "metadata": {},
     "output_type": "display_data"
    }
   ],
   "source": [
    "# try to plot CA on map - TODO\n",
    "\n",
    "world = gpd.read_file(gpd.datasets.get_path('naturalearth_lowres'))\n",
    "\n",
    "# restrict to America.\n",
    "ax = world[world.continent == 'North America'].plot(color='white', edgecolor='black')\n",
    "\n",
    "# plot GeoDataFrame.\n",
    "g_df.plot(ax=ax, color='red')\n",
    "\n",
    "plt.show()"
   ]
  },
  {
   "cell_type": "code",
   "execution_count": 12,
   "metadata": {},
   "outputs": [
    {
     "data": {
      "text/html": [
       "<div>\n",
       "<style scoped>\n",
       "    .dataframe tbody tr th:only-of-type {\n",
       "        vertical-align: middle;\n",
       "    }\n",
       "\n",
       "    .dataframe tbody tr th {\n",
       "        vertical-align: top;\n",
       "    }\n",
       "\n",
       "    .dataframe thead th {\n",
       "        text-align: right;\n",
       "    }\n",
       "</style>\n",
       "<table border=\"1\" class=\"dataframe\">\n",
       "  <thead>\n",
       "    <tr style=\"text-align: right;\">\n",
       "      <th></th>\n",
       "      <th>PlaceName_</th>\n",
       "      <th>Population2010_count</th>\n",
       "      <th>Population2010_mean</th>\n",
       "      <th>DIABETES_CrudePrev_count</th>\n",
       "      <th>DIABETES_CrudePrev_mean</th>\n",
       "    </tr>\n",
       "  </thead>\n",
       "  <tbody>\n",
       "    <tr>\n",
       "      <th>0</th>\n",
       "      <td>Alameda</td>\n",
       "      <td>16</td>\n",
       "      <td>4613.250000</td>\n",
       "      <td>16</td>\n",
       "      <td>8.212500</td>\n",
       "    </tr>\n",
       "    <tr>\n",
       "      <th>1</th>\n",
       "      <td>Alhambra</td>\n",
       "      <td>20</td>\n",
       "      <td>4154.450000</td>\n",
       "      <td>20</td>\n",
       "      <td>11.475000</td>\n",
       "    </tr>\n",
       "    <tr>\n",
       "      <th>2</th>\n",
       "      <td>Anaheim</td>\n",
       "      <td>75</td>\n",
       "      <td>4483.053333</td>\n",
       "      <td>75</td>\n",
       "      <td>9.564000</td>\n",
       "    </tr>\n",
       "    <tr>\n",
       "      <th>3</th>\n",
       "      <td>Antioch</td>\n",
       "      <td>20</td>\n",
       "      <td>5118.600000</td>\n",
       "      <td>20</td>\n",
       "      <td>9.675000</td>\n",
       "    </tr>\n",
       "    <tr>\n",
       "      <th>4</th>\n",
       "      <td>Apple Valley</td>\n",
       "      <td>12</td>\n",
       "      <td>5758.583333</td>\n",
       "      <td>12</td>\n",
       "      <td>11.741667</td>\n",
       "    </tr>\n",
       "  </tbody>\n",
       "</table>\n",
       "</div>"
      ],
      "text/plain": [
       "     PlaceName_  Population2010_count  Population2010_mean  \\\n",
       "0       Alameda                    16          4613.250000   \n",
       "1      Alhambra                    20          4154.450000   \n",
       "2       Anaheim                    75          4483.053333   \n",
       "3       Antioch                    20          5118.600000   \n",
       "4  Apple Valley                    12          5758.583333   \n",
       "\n",
       "   DIABETES_CrudePrev_count  DIABETES_CrudePrev_mean  \n",
       "0                        16                 8.212500  \n",
       "1                        20                11.475000  \n",
       "2                        75                 9.564000  \n",
       "3                        20                 9.675000  \n",
       "4                        12                11.741667  "
      ]
     },
     "execution_count": 12,
     "metadata": {},
     "output_type": "execute_result"
    }
   ],
   "source": [
    "# groupby city to find average population and diabetes prevalence \n",
    "\n",
    "df_grp = df1.groupby(['PlaceName']).agg(['count','mean']).reset_index()\n",
    "\n",
    "df_grp.columns = df_grp.columns.map('_'.join)\n",
    "df_grp.head()"
   ]
  },
  {
   "cell_type": "code",
   "execution_count": 13,
   "metadata": {},
   "outputs": [
    {
     "data": {
      "text/plain": [
       "count     121.000000\n",
       "mean     4466.719785\n",
       "std       719.867848\n",
       "min      3315.562500\n",
       "25%      4010.619048\n",
       "50%      4385.222222\n",
       "75%      4824.842105\n",
       "max      6834.000000\n",
       "Name: Population2010_mean, dtype: float64"
      ]
     },
     "execution_count": 13,
     "metadata": {},
     "output_type": "execute_result"
    }
   ],
   "source": [
    "# 121 cities in CA\n",
    "\n",
    "df_grp['Population2010_mean'].describe()"
   ]
  },
  {
   "cell_type": "markdown",
   "metadata": {},
   "source": [
    "### Question\n",
    "Write a function for calculating the location entropy of a give dataset.\n",
    "In this example, we will look at the population entropy for different states."
   ]
  },
  {
   "cell_type": "code",
   "execution_count": 14,
   "metadata": {},
   "outputs": [],
   "source": [
    "def entropy_location(df, state):\n",
    "\n",
    "    ### prepare data\n",
    "    df2 = df[df['StateAbbr'] == state]\n",
    "\n",
    "    df2 = df2[['StateAbbr', 'PlaceName', 'Population2010', 'DIABETES_CrudePrev','DIABETES_Crude95CI','Geolocation']]\n",
    "    \n",
    "    # groupby city to find average population and diabetes prevalence \n",
    "    df_grp2 = df2.groupby(['PlaceName']).agg(['count','mean']).reset_index()\n",
    "    df_grp2.columns = df_grp2.columns.map('_'.join)\n",
    "\n",
    "    L = list(df_grp2['Population2010_mean'].values)\n",
    "\n",
    "    ### calculate entropy\n",
    "    \n",
    "    # H = 1, high entropy, disorder\n",
    "    # H = 0, min entropy, more certainty   \n",
    "    H = 0\n",
    "    \n",
    "    P = np.sum(L)\n",
    "    \n",
    "    # sum over all n ==> p_i = 1 \n",
    "    for Pi in L:\n",
    "        p_i = Pi / P\n",
    "        H += -1 * (p_i * np.log2(p_i))\n",
    "        \n",
    "    return H"
   ]
  },
  {
   "cell_type": "code",
   "execution_count": 15,
   "metadata": {},
   "outputs": [
    {
     "data": {
      "text/plain": [
       "6.900867940680344"
      ]
     },
     "execution_count": 15,
     "metadata": {},
     "output_type": "execute_result"
    }
   ],
   "source": [
    "# population entropy for all 121 cities in CA\n",
    "\n",
    "entropy_location(df, \"CA\")"
   ]
  },
  {
   "cell_type": "code",
   "execution_count": 16,
   "metadata": {},
   "outputs": [
    {
     "data": {
      "text/plain": [
       "5.519230547932295"
      ]
     },
     "execution_count": 16,
     "metadata": {},
     "output_type": "execute_result"
    }
   ],
   "source": [
    "# population entropy for all 47 cities in TX\n",
    "\n",
    "entropy_location(df, \"TX\")"
   ]
  },
  {
   "cell_type": "code",
   "execution_count": 17,
   "metadata": {},
   "outputs": [
    {
     "data": {
      "text/plain": [
       "1.5180888510997415"
      ]
     },
     "execution_count": 17,
     "metadata": {},
     "output_type": "execute_result"
    }
   ],
   "source": [
    "# population entropy for all 3 cities in ID\n",
    "\n",
    "entropy_location(df, \"ID\")"
   ]
  },
  {
   "cell_type": "markdown",
   "metadata": {},
   "source": [
    "### Conclusion\n",
    "\n",
    "The lower the number of cities in a state, the lower the population entropy (more predictable)"
   ]
  },
  {
   "cell_type": "code",
   "execution_count": null,
   "metadata": {},
   "outputs": [],
   "source": []
  }
 ],
 "metadata": {
  "kernelspec": {
   "display_name": "Python 3",
   "language": "python",
   "name": "python3"
  },
  "language_info": {
   "codemirror_mode": {
    "name": "ipython",
    "version": 3
   },
   "file_extension": ".py",
   "mimetype": "text/x-python",
   "name": "python",
   "nbconvert_exporter": "python",
   "pygments_lexer": "ipython3",
   "version": "3.6.6"
  }
 },
 "nbformat": 4,
 "nbformat_minor": 2
}
